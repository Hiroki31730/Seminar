{
  "nbformat": 4,
  "nbformat_minor": 0,
  "metadata": {
    "colab": {
      "provenance": [],
      "authorship_tag": "ABX9TyMsCRd0kgzr095XxQHotQvU",
      "include_colab_link": true
    },
    "kernelspec": {
      "name": "python3",
      "display_name": "Python 3"
    },
    "language_info": {
      "name": "python"
    }
  },
  "cells": [
    {
      "cell_type": "markdown",
      "metadata": {
        "id": "view-in-github",
        "colab_type": "text"
      },
      "source": [
        "<a href=\"https://colab.research.google.com/github/Hiroki31730/Seminar/blob/main/CNN_beginner.ipynb\" target=\"_parent\"><img src=\"https://colab.research.google.com/assets/colab-badge.svg\" alt=\"Open In Colab\"/></a>"
      ]
    },
    {
      "cell_type": "code",
      "source": [
        "#Google colabではローカル環境にアクセスできないのでdiveと接続できるようにする\n",
        "from google.colab import drive\n",
        "drive.mount('/content/drive')"
      ],
      "metadata": {
        "colab": {
          "base_uri": "https://localhost:8080/"
        },
        "id": "ipz6LE3Zjt6u",
        "outputId": "8b611fa6-457f-4d11-9b0a-c3cee71eba26"
      },
      "execution_count": 2,
      "outputs": [
        {
          "output_type": "stream",
          "name": "stdout",
          "text": [
            "Mounted at /content/drive\n"
          ]
        }
      ]
    },
    {
      "cell_type": "code",
      "execution_count": 3,
      "metadata": {
        "colab": {
          "base_uri": "https://localhost:8080/"
        },
        "id": "J_3bduGmg5kv",
        "outputId": "628e6498-ced2-4ed0-e84d-9e57644b48c4"
      },
      "outputs": [
        {
          "output_type": "stream",
          "name": "stdout",
          "text": [
            "画像の高さは  480\n",
            "画像の幅は  640\n"
          ]
        }
      ],
      "source": [
        "#画像のサイズ確認\n",
        "from PIL import Image\n",
        "\n",
        "filepath = \"/content/drive/MyDrive/SANSIN_sp/ebony/N1_Body_Off_A_1.png\"\n",
        "img = Image.open(filepath)\n",
        "\n",
        "width = img.width\n",
        "height = img.height\n",
        "\n",
        "print(\"画像の高さは \",height)\n",
        "print(\"画像の幅は \",width)"
      ]
    },
    {
      "cell_type": "code",
      "source": [
        "#画像ディレクトリのコピー\n",
        "import shutil\n",
        "import os\n",
        "\n",
        "#shutil.copytree(\"/content/drive/MyDrive/SANSIN_sp\", \"/content/drive/MyDrive/SANSIN_sp2\")\n",
        "\n",
        "print(os.path.isdir(\"/content/drive/MyDrive/SANSIN_sp2/ebony\"))"
      ],
      "metadata": {
        "colab": {
          "base_uri": "https://localhost:8080/"
        },
        "id": "F4tOBMEIlRlS",
        "outputId": "7546a75a-1e06-4457-c72b-fe02c41dd8d3"
      },
      "execution_count": 6,
      "outputs": [
        {
          "output_type": "stream",
          "name": "stdout",
          "text": [
            "True\n"
          ]
        }
      ]
    },
    {
      "cell_type": "code",
      "source": [
        "#画像サイズを半分にする。\n",
        "import glob\n",
        "from PIL import Image\n",
        "file_path = \"/content/drive/MyDrive/SANSIN_sp2\"\n",
        "\n",
        "def img_down(path):\n",
        "  syurui_list = glob.glob(path + '/**')\n",
        "  for i in range(len(syurui_list)):\n",
        "    img_list =glob.glob(syurui_list[i] + '/*.png')\n",
        "    for img in img_list:\n",
        "      # リサイズ前の画像を読み込み\n",
        "      img_read = Image.open(img)\n",
        "      # 読み込んだ画像の幅、高さを取得し半分に\n",
        "      (width, height) = (img_read.width // 2, img_read.height // 2)\n",
        "      # 画像をリサイズする\n",
        "      img_resized = img_read.resize((width, height))\n",
        "      # ファイルを保存\n",
        "      img_resized.save(img)\n"
      ],
      "metadata": {
        "id": "S-oqVf_0nUJf"
      },
      "execution_count": 20,
      "outputs": []
    },
    {
      "cell_type": "code",
      "source": [
        "img_down(file_path)"
      ],
      "metadata": {
        "id": "qDBN2WYCtdZP"
      },
      "execution_count": 21,
      "outputs": []
    }
  ]
}